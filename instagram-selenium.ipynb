{
 "cells": [
  {
   "cell_type": "code",
   "execution_count": 12,
   "metadata": {},
   "outputs": [],
   "source": [
    "from selenium import webdriver\n",
    "from selenium.webdriver.chrome.options import Options\n",
    "from time import sleep\n",
    "from bs4 import BeautifulSoup as bs\n",
    "import requests"
   ]
  },
  {
   "cell_type": "code",
   "execution_count": 2,
   "metadata": {},
   "outputs": [],
   "source": [
    "chrome_options = Options()\n",
    "chrome_options.add_argument('--headless')\n",
    "chrome_options.add_argument('--no-sandbox')\n",
    "chrome_options.add_argument('--disable-dev-shm-usage')"
   ]
  },
  {
   "cell_type": "code",
   "execution_count": 4,
   "metadata": {},
   "outputs": [],
   "source": [
    "driver = webdriver.Chrome(\"/usr/bin/chromedriver\", options=chrome_options)\n",
    "#probably going to have to have logic to sign out/sign in\n",
    "driver.get(\"https://www.instagram.com/explore/tags/amateurphotography/?hl=en\")\n",
    "#sleep(2) # for loading likely"
   ]
  },
  {
   "cell_type": "code",
   "execution_count": null,
   "metadata": {},
   "outputs": [],
   "source": [
    "#most_recent = driver.find_element_by_xpath('//*[@id=\"react-root\"]/section/main/article/div[2]/div/div[1]/div[1]/a/div/div[2]')\n",
    "#most_recent.click()"
   ]
  },
  {
   "cell_type": "code",
   "execution_count": 5,
   "metadata": {},
   "outputs": [],
   "source": [
    "# convert page source to HTML and see if that allows us to get the image\n",
    "html_to_parse=str(driver.page_source)"
   ]
  },
  {
   "cell_type": "code",
   "execution_count": 6,
   "metadata": {},
   "outputs": [],
   "source": [
    "html=bs(html_to_parse,\"html5lib\")"
   ]
  },
  {
   "cell_type": "code",
   "execution_count": 7,
   "metadata": {},
   "outputs": [],
   "source": [
    "images_url=html.findAll(\"img\", {\"class\": \"FFVAD\"})"
   ]
  },
  {
   "cell_type": "code",
   "execution_count": 13,
   "metadata": {},
   "outputs": [
    {
     "data": {
      "text/plain": [
       "<img alt=\"Photo by Landscape Photography 🌊 in Blokhus Strand. Image may contain: sky, plant, grass, tree, outdoor and nature\" class=\"FFVAD\" decoding=\"auto\" sizes=\"229.671875px\" src=\"https://scontent-iad3-1.cdninstagram.com/v/t51.2885-15/sh0.08/e35/c180.0.1079.1079a/s640x640/96586023_231127571646073_2985951170357185192_n.jpg?_nc_ht=scontent-iad3-1.cdninstagram.com&amp;_nc_cat=101&amp;_nc_ohc=EMVD5rw_SeQAX_zx5lp&amp;oh=e166ab7262e2d330ddca727b419fa47a&amp;oe=5EE6920F\" srcset=\"https://scontent-iad3-1.cdninstagram.com/v/t51.2885-15/e35/c180.0.1079.1079a/s150x150/96586023_231127571646073_2985951170357185192_n.jpg?_nc_ht=scontent-iad3-1.cdninstagram.com&amp;_nc_cat=101&amp;_nc_ohc=EMVD5rw_SeQAX_zx5lp&amp;oh=3d7f409ad35bb671472fe248e0e3f299&amp;oe=5EE77BC6 150w,https://scontent-iad3-1.cdninstagram.com/v/t51.2885-15/e35/c180.0.1079.1079a/s240x240/96586023_231127571646073_2985951170357185192_n.jpg?_nc_ht=scontent-iad3-1.cdninstagram.com&amp;_nc_cat=101&amp;_nc_ohc=EMVD5rw_SeQAX_zx5lp&amp;oh=f69ad29593dc7cd25eac707b5eb9d069&amp;oe=5EE75610 240w,https://scontent-iad3-1.cdninstagram.com/v/t51.2885-15/e35/c180.0.1079.1079a/s320x320/96586023_231127571646073_2985951170357185192_n.jpg?_nc_ht=scontent-iad3-1.cdninstagram.com&amp;_nc_cat=101&amp;_nc_ohc=EMVD5rw_SeQAX_zx5lp&amp;oh=52cb94c29947d51e2453ebb13297290d&amp;oe=5EE6C2B6 320w,https://scontent-iad3-1.cdninstagram.com/v/t51.2885-15/e35/c180.0.1079.1079a/s480x480/96586023_231127571646073_2985951170357185192_n.jpg?_nc_ht=scontent-iad3-1.cdninstagram.com&amp;_nc_cat=101&amp;_nc_ohc=EMVD5rw_SeQAX_zx5lp&amp;oh=eb7334b256ef0d674a0f9cc1f74a9096&amp;oe=5EE8BF70 480w,https://scontent-iad3-1.cdninstagram.com/v/t51.2885-15/sh0.08/e35/c180.0.1079.1079a/s640x640/96586023_231127571646073_2985951170357185192_n.jpg?_nc_ht=scontent-iad3-1.cdninstagram.com&amp;_nc_cat=101&amp;_nc_ohc=EMVD5rw_SeQAX_zx5lp&amp;oh=e166ab7262e2d330ddca727b419fa47a&amp;oe=5EE6920F 640w\" style=\"object-fit: cover;\"/>"
      ]
     },
     "execution_count": 13,
     "metadata": {},
     "output_type": "execute_result"
    }
   ],
   "source": [
    "images_url[0]"
   ]
  },
  {
   "cell_type": "code",
   "execution_count": 15,
   "metadata": {},
   "outputs": [],
   "source": [
    "# Save each image.jpg file\n",
    "name=\"image.jpg\"\n",
    "with open(name, 'wb') as handler:\n",
    "\n",
    "    img_data = requests.get(images_url[0].get(\"src\")).content\n",
    "    handler.write(img_data)"
   ]
  },
  {
   "cell_type": "code",
   "execution_count": null,
   "metadata": {},
   "outputs": [],
   "source": [
    "# now we need to be able to comment on that picture"
   ]
  }
 ],
 "metadata": {
  "kernelspec": {
   "display_name": "Python 3",
   "language": "python",
   "name": "python3"
  },
  "language_info": {
   "codemirror_mode": {
    "name": "ipython",
    "version": 3
   },
   "file_extension": ".py",
   "mimetype": "text/x-python",
   "name": "python",
   "nbconvert_exporter": "python",
   "pygments_lexer": "ipython3",
   "version": "3.6.9"
  }
 },
 "nbformat": 4,
 "nbformat_minor": 4
}
